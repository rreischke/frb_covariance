{
 "cells": [
  {
   "cell_type": "code",
   "execution_count": 20,
   "metadata": {},
   "outputs": [
    {
     "data": {
      "text/plain": [
       "<Figure size 640x480 with 0 Axes>"
      ]
     },
     "metadata": {},
     "output_type": "display_data"
    }
   ],
   "source": [
    "import matplotlib.pyplot as plt\n",
    "import numpy as np\n",
    "import itertools\n",
    "fontsi = 16\n",
    "fontsi2 = 22\n",
    "\n",
    "plt.tick_params(labelsize=fontsi)\n",
    "\n",
    "\n",
    "plt.rc('text', usetex=True)\n",
    "plt.rc('font', family='sans-serif')\n",
    "plt.rc('image', interpolation='none')\n",
    "plt.clf()\n",
    "def get_corr(cov):\n",
    "    return cov / np.sqrt( np.diag(cov)[:,None] * np.diag(cov)[None,:])"
   ]
  },
  {
   "cell_type": "code",
   "execution_count": 22,
   "metadata": {},
   "outputs": [
    {
     "name": "stdout",
     "output_type": "stream",
     "text": [
      "[ 61.43025414 106.3322129  112.11731369 116.81460518 119.45378107\n",
      " 123.40823471 128.33183911 136.26543593  70.0740889   80.69536967\n",
      "  93.254891   101.97482771 111.02074023 111.37489571 119.42523506\n",
      " 122.7190947 ]\n"
     ]
    },
    {
     "data": {
      "image/png": "[encoded data removed]",
      "text/plain": [
       "<Figure size 640x480 with 2 Axes>"
      ]
     },
     "metadata": {},
     "output_type": "display_data"
    }
   ],
   "source": [
    "covariance = np.array(np.loadtxt(\"covariance_koustav\"))\n",
    "fig = plt.figure()\n",
    "ax = fig.add_subplot()\n",
    "corr = get_corr(covariance)\n",
    "\n",
    "print(np.diagonal(covariance))\n",
    "\n",
    "ratio = len(corr) / 140\n",
    "limit = max(-min(corr.flatten()), max(corr.flatten()))\n",
    "cbar = ax.imshow(corr, cmap = \"cividis\", \n",
    "                    extent = [0, len(corr), 0, len(corr)],\n",
    "                    vmin=1*min(corr.flatten()), vmax=1*limit)\n",
    "\n",
    "fig.colorbar(cbar, location='bottom', shrink=.775, aspect=30, pad=0.055).ax.tick_params(axis='x', direction='in')\n",
    "ax.text(len(corr)/2, -6*ratio, '$\\mathrm{correlation\\;coefficient}$', fontsize=13, ha='center', va='center')\n",
    "label_positionsx = []\n",
    "label_positionsy = []\n",
    "plt.xticks([])\n",
    "plt.yticks([])\n",
    "\n",
    "plt.tight_layout()\n",
    "plt.savefig(\"covariance_koustav.pdf\")\n",
    "\n"
   ]
  }
 ],
 "metadata": {
  "kernelspec": {
   "display_name": "Python 3",
   "language": "python",
   "name": "python3"
  },
  "language_info": {
   "codemirror_mode": {
    "name": "ipython",
    "version": 3
   },
   "file_extension": ".py",
   "mimetype": "text/x-python",
   "name": "python",
   "nbconvert_exporter": "python",
   "pygments_lexer": "ipython3",
   "version": "3.11.4"
  }
 },
 "nbformat": 4,
 "nbformat_minor": 2
}

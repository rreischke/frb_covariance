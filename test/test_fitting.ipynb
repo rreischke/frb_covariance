{
 "cells": [
  {
   "cell_type": "code",
   "execution_count": 1,
   "metadata": {},
   "outputs": [],
   "source": [
    "import cosmopower as cp\n",
    "import frb_cov as frb\n",
    "from astropy.io import ascii\n",
    "import astropy.coordinates as coord\n",
    "import astropy.units as units\n",
    "import numpy as np\n",
    "from astropy.coordinates import Longitude, Latitude\n",
    "import matplotlib.pyplot as plt\n",
    "import pandas as pd\n",
    "import time\n",
    "\n",
    "bias_emu = cp.cosmopower_NN(restore=True, restore_filename=\"./../cosmopower/bias_sq_model\")\n",
    "power_emu = cp.cosmopower_NN(restore=True, restore_filename=\"./../cosmopower/pkmm_nonlin_model\")\n",
    "\n",
    "\n"
   ]
  },
  {
   "cell_type": "code",
   "execution_count": null,
   "metadata": {},
   "outputs": [
    {
     "name": "stdout",
     "output_type": "stream",
     "text": [
      "[ True  True  True  True  True  True  True  True  True  True  True  True\n",
      "  True  True  True  True  True  True  True  True  True  True  True  True\n",
      "  True  True  True  True  True  True  True  True  True  True  True  True\n",
      "  True  True  True  True  True  True  True  True  True  True  True  True\n",
      "  True  True  True  True  True  True  True  True  True  True  True  True\n",
      "  True  True  True  True  True  True  True  True  True  True  True]\n",
      "FRB20230708A  &  411.51  &  0.105  &  50.0  &  -2.7889  &  -0.9661  \\\\ \n",
      "FRB20191106C  &  332.2  &  0.10775  &  25.0  &  -2.9094  &  0.7505  \\\\ \n",
      "FRB20220914A  &  631.28  &  0.1139  &  55.2  &  -2.8134  &  1.28  \\\\ \n",
      "FRB20190608  &  339.5  &  0.11778  &  37.2  &  -2.7529  &  -0.1378  \\\\ \n",
      "FRB20190110C  &  221.6  &  0.12244  &  37.1  &  -2.8515  &  0.7233  \\\\ \n",
      "FRB20240310A  &  601.8  &  0.127  &  36.0  &  -3.1182  &  -0.7756  \\\\ \n",
      "FRB20240213A  &  357.4  &  0.1185  &  32.1  &  -2.9482  &  1.2929  \\\\ \n",
      "FRB20230628A  &  345.15  &  0.1265  &  30.83  &  -2.9475  &  1.2616  \\\\ \n",
      "FRB20210807D  &  251.3  &  0.1293  &  121.2  &  -2.7934  &  -0.0133  \\\\ \n",
      "FRB20240114A  &  527.7  &  0.13  &  38.82  &  -2.767  &  0.0756  \\\\ \n",
      "FRB20210410D  &  578.78  &  0.1415  &  56.2  &  -2.7622  &  -1.3844  \\\\ \n",
      "FRB20231226A  &  329.9  &  0.1569  &  145.0  &  -2.9608  &  0.1066  \\\\ \n",
      "FRB20230526A  &  361.4  &  0.157  &  50.0  &  -3.1157  &  -0.9201  \\\\ \n",
      "FRB20220920A  &  314.99  &  0.158239  &  40.3  &  -2.862  &  1.2378  \\\\ \n",
      "FRB20200430  &  380.25  &  0.16  &  27.0  &  -2.8743  &  0.216  \\\\ \n",
      "FRB20210603A  &  500.147  &  0.177  &  40.0  &  -3.1296  &  0.3705  \\\\ \n",
      "FRB20220529A  &  246.0  &  0.1839  &  30.92  &  -3.1194  &  0.3601  \\\\ \n",
      "FRB20220725A  &  290.4  &  0.1926  &  31.0  &  -2.7305  &  -0.6281  \\\\ \n",
      "FRB20121102  &  557.0  &  0.1927  &  188.0  &  -3.045  &  0.5783  \\\\ \n",
      "FRB20221106A  &  343.8  &  0.2044  &  35.0  &  -3.0756  &  -0.4463  \\\\ \n",
      "FRB20240215A  &  549.5  &  0.21  &  42.8  &  -2.8292  &  1.2258  \\\\ \n",
      "FRB20210117A  &  728.95  &  0.214  &  34.4  &  -2.746  &  -0.2819  \\\\ \n",
      "FRB20221027A  &  452.5  &  0.229  &  40.59  &  -2.9893  &  1.2584  \\\\ \n",
      "FRB20191001  &  507.9  &  0.234  &  44.7  &  -2.7654  &  -0.9555  \\\\ \n",
      "FRB20190714  &  504.13  &  0.2365  &  39.0  &  -2.9275  &  -0.2273  \\\\ \n",
      "FRB20221101B  &  490.7  &  0.2395  &  192.35  &  -2.7434  &  1.2336  \\\\ \n",
      "FRB20190520B  &  1210.3  &  0.241  &  113.0  &  -2.8617  &  -0.197  \\\\ \n",
      "FRB20220825A  &  651.24  &  0.241397  &  79.7  &  -2.7786  &  1.2668  \\\\ \n",
      "FRB20191228  &  297.5  &  0.2432  &  33.0  &  -2.7408  &  -0.5165  \\\\ \n",
      "FRB20220307B  &  499.27  &  0.248123  &  135.7  &  -2.7333  &  1.26  \\\\ \n",
      "FRB20221113A  &  411.4  &  0.2505  &  115.37  &  -3.0585  &  1.2271  \\\\ \n",
      "FRB20220831A  &  1146.25  &  0.262  &  187.94  &  -2.7475  &  1.2258  \\\\ \n",
      "FRB20231123B  &  396.7  &  0.2625  &  33.81  &  -2.8594  &  1.2354  \\\\ \n",
      "FRB20230307A  &  608.9  &  0.271  &  29.47  &  -2.9347  &  1.2513  \\\\ \n",
      "FRB20221116A  &  640.6  &  0.2764  &  196.17  &  -3.1169  &  1.2681  \\\\ \n",
      "FRB20220105A  &  580.0  &  0.2785  &  22.0  &  -2.8986  &  0.3921  \\\\ \n",
      "FRB20210320C  &  384.8  &  0.2797  &  42.0  &  -2.9037  &  -0.2814  \\\\ \n",
      "FRB20221012A  &  441.08  &  0.284669  &  54.4  &  -2.8149  &  1.2309  \\\\ \n",
      "FRB20240229A  &  491.15  &  0.287  &  29.52  &  -2.9438  &  1.2335  \\\\ \n",
      "FRB20190102  &  364.5  &  0.2913  &  57.3  &  -2.7664  &  -1.3871  \\\\ \n",
      "FRB20220506D  &  396.97  &  0.30039  &  89.1  &  -2.7715  &  1.2711  \\\\ \n",
      "FRB20230501A  &  532.5  &  0.301  &  180.18  &  -2.746  &  1.2378  \\\\ \n",
      "FRB20180924  &  361.42  &  0.3214  &  40.5  &  -2.7622  &  -0.7138  \\\\ \n",
      "FRB20230626A  &  451.2  &  0.327  &  32.51  &  -2.8674  &  1.2415  \\\\ \n",
      "FRB20180301  &  536.0  &  0.3304  &  152.0  &  -3.0331  &  0.0815  \\\\ \n",
      "FRB20231220A  &  491.2  &  0.3355  &  44.55  &  -2.9974  &  1.2856  \\\\ \n",
      "FRB20211203C  &  635.0  &  0.3439  &  63.0  &  -2.9036  &  -0.5477  \\\\ \n",
      "FRB20220208A  &  437.0  &  0.351  &  128.79  &  -2.7663  &  1.2224  \\\\ \n",
      "FRB20220726A  &  686.55  &  0.361  &  111.42  &  -3.0556  &  1.2205  \\\\ \n",
      "FRB20230902A  &  440.1  &  0.3619  &  34.0  &  -3.0809  &  -0.8261  \\\\ \n",
      "FRB20200906  &  577.8  &  0.3688  &  36.0  &  -3.0881  &  -0.2458  \\\\ \n",
      "FRB20240119A  &  483.1  &  0.37  &  30.98  &  -2.8804  &  1.2499  \\\\ \n",
      "FRB20220330D  &  468.1  &  0.3714  &  57.83  &  -2.9511  &  1.2279  \\\\ \n",
      "FRB20190611  &  321.4  &  0.378  &  43.67  &  -2.7684  &  -1.3857  \\\\ \n",
      "FRB20220501C  &  449.5  &  0.381  &  31.0  &  -2.7316  &  -0.5671  \\\\ \n",
      "FRB20220204A  &  612.2  &  0.4  &  46.02  &  -2.8225  &  1.2169  \\\\ \n",
      "FRB20230712A  &  586.96  &  0.4525  &  30.93  &  -2.9469  &  1.2664  \\\\ \n",
      "FRB20181112  &  589.27  &  0.4755  &  102.0  &  -2.7607  &  -0.9245  \\\\ \n",
      "FRB20220310F  &  462.24  &  0.477958  &  45.4  &  -2.9848  &  1.2827  \\\\ \n",
      "FRB20220918A  &  656.8  &  0.491  &  41.0  &  -3.1211  &  -1.2359  \\\\ \n",
      "FRB20190711  &  593.1  &  0.522  &  56.4  &  -2.1349  &  -1.4025  \\\\ \n",
      "FRB20230216A  &  828.0  &  0.531  &  27.05  &  -2.9595  &  0.06  \\\\ \n",
      "FRB20230814A  &  696.4  &  0.5535  &  137.83  &  -2.7507  &  1.2745  \\\\ \n",
      "FRB20221219A  &  706.7  &  0.554  &  38.59  &  -2.8418  &  1.2501  \\\\ \n",
      "FRB20190614  &  959.2  &  0.6  &  83.5  &  -3.0659  &  1.2864  \\\\ \n",
      "FRB20220418A  &  623.25  &  0.622  &  37.6  &  -2.8867  &  1.2234  \\\\ \n",
      "FRB20190523  &  760.8  &  0.66  &  37.0  &  -2.9007  &  1.2648  \\\\ \n",
      "FRB20240123A  &  1462.0  &  0.968  &  113.01  &  -3.0622  &  1.2557  \\\\ \n",
      "FRB20221029A  &  1391.05  &  0.975  &  36.4  &  -2.9764  &  1.2645  \\\\ \n",
      "FRB20220610A  &  1457.624  &  1.016  &  31.0  &  -2.7331  &  -0.5849  \\\\ \n",
      "FRB20230521B  &  1342.9  &  1.354  &  209.66  &  -2.7331  &  1.2416  \\\\ \n"
     ]
    },
    {
     "name": "stderr",
     "output_type": "stream",
     "text": [
      "<>:106: SyntaxWarning: invalid escape sequence '\\ '\n",
      "<>:106: SyntaxWarning: invalid escape sequence '\\ '\n",
      "/var/folders/4k/46233y0d3tx9bcbm7l78j0mr0000gn/T/ipykernel_29236/1776083358.py:106: SyntaxWarning: invalid escape sequence '\\ '\n",
      "  print(frb_name[i], \" & \" , DM_obs[i],\" & \", zet[i], \" & \",DM_MW[i], \" & \",np.round(ra[i],4), \" & \", np.round(dec[i],4), \" \\\\\\ \")\n"
     ]
    }
   ],
   "source": [
    "#file_paths = ['./../data/FRBCat_arXiv2307.03344.csv', './../data/FRBCat_arXiv2302.14788.csv', './../data/catalogue_updated.csv']\n",
    "file_paths = ['./../data/00.New_FRB_Data.csv']\n",
    "ra_labels = ['RA (FRB)', 'ra (deg)', 'RA']\n",
    "dec_labels = ['Dec (FRB)', 'dec (deg)', 'DEC']\n",
    "redshift_labels = ['z (host)', 'redshift', 'z_gal','Redshift']\n",
    "DM_obs_labels = ['DM (pc/cm3)',\"dm\", 'DM_obs', 'DMobs']\n",
    "DM_MW_labels = ['DM_ISM (pc/cm3)',\"dm_milky_way\", 'DM_MW', 'DMmw']\n",
    "frb_name_labels = ['FRB', 'frb', 'Name']\n",
    "\n",
    "frb_name = []\n",
    "ra = []\n",
    "dec = []\n",
    "zet = []\n",
    "DM_obs = []\n",
    "DM_MW = []\n",
    "frb_id = []\n",
    "for file_path in file_paths:\n",
    "    df = pd.read_csv(file_path)\n",
    "    for keys in frb_name_labels:\n",
    "        try:\n",
    "            aux = np.array(df[keys])\n",
    "            for i_aux in aux:\n",
    "                frb_name.append(i_aux)\n",
    "        except:\n",
    "            continue\n",
    "    for keys in ra_labels:\n",
    "        try:\n",
    "            aux = np.array(df[keys])\n",
    "            for i_aux in aux:\n",
    "                ra.append(i_aux)\n",
    "        except:\n",
    "            continue\n",
    "    for keys in dec_labels:\n",
    "        try:\n",
    "            aux = np.array(df[keys])\n",
    "            for i_aux in aux:\n",
    "                dec.append(i_aux)\n",
    "        except:\n",
    "            continue\n",
    "    for keys in DM_obs_labels:\n",
    "        try:\n",
    "            aux = np.array(df[keys])\n",
    "            for i_aux in aux:\n",
    "                DM_obs.append(i_aux)\n",
    "        except:\n",
    "            continue\n",
    "    for keys in redshift_labels:\n",
    "        try:\n",
    "            aux = np.array(df[keys])\n",
    "            for i_aux in aux:\n",
    "                zet.append(i_aux)\n",
    "        except:\n",
    "            continue\n",
    "    for keys in DM_MW_labels:\n",
    "        try:\n",
    "            aux = np.array(df[keys])\n",
    "            for i_aux in aux:\n",
    "                DM_MW.append(i_aux)\n",
    "        except:\n",
    "            continue\n",
    "\n",
    "ra = np.array(ra)\n",
    "dec = np.array(dec)\n",
    "DM_obs = np.array(DM_obs)\n",
    "DM_MW = np.array(DM_MW)\n",
    "zet = np.array(zet)\n",
    "take_index = np.sort(np.unique(zet, return_index=True)[1])\n",
    "ra = ra[take_index]\n",
    "dec = dec[take_index]\n",
    "DM_obs = DM_obs[take_index]\n",
    "DM_MW = DM_MW[take_index]\n",
    "zet = zet[take_index]\n",
    "ra = coord.Angle(ra, unit=units.degree)\n",
    "dec = coord.Angle(dec, unit=units.degree)\n",
    "ra = ra.radian - np.pi\n",
    "dec = dec.radian\n",
    "n_with_host = len(zet)\n",
    "\n",
    "#print(DM_obs)\n",
    "\n",
    "\n",
    "'''\n",
    "idx = np.where(np.logical_and(DM_obs>1000, DM_obs -DM_MW < 0))\n",
    "#idx = np.append(idx,[11,12,17,20])\n",
    "DM_obs = np.delete(DM_obs,idx)\n",
    "zet = np.delete(zet,idx)\n",
    "ra = np.delete(ra,idx)\n",
    "dec = np.delete(dec,idx)\n",
    "DM_MW = np.delete(DM_MW,idx)\n",
    "frb_name = np.delete(frb_name,idx)\n",
    "n_with_host = len(zet)\n",
    "'''\n",
    "idx_exclude = np.logical_and(DM_obs>2000, DM_obs -DM_MW < 0)\n",
    "\n",
    "idx = np.logical_and(DM_obs<2000, DM_obs -DM_MW > 0)\n",
    "DM_obs = DM_obs[idx]\n",
    "DM_MW = DM_MW[idx]\n",
    "zet = zet[idx]\n",
    "ra = ra[idx]\n",
    "dec = dec[idx]\n",
    "frb_name = np.delete(frb_name,idx_exclude)\n",
    "\n",
    "n_with_host = len(zet)\n",
    "\n",
    "\n",
    "for i in range(len(DM_obs)):\n",
    "    print(frb_name[i], \" & \" , DM_obs[i],\" & \", zet[i], \" & \",DM_MW[i], \" & \",np.round(ra[i],4), \" & \", np.round(dec[i],4), \" \\\\\\ \")\n"
   ]
  },
  {
   "cell_type": "code",
   "execution_count": 101,
   "metadata": {},
   "outputs": [
    {
     "data": {
      "image/png": "[encoded data removed]",
      "text/plain": [
       "<Figure size 850x540 with 2 Axes>"
      ]
     },
     "metadata": {},
     "output_type": "display_data"
    }
   ],
   "source": [
    "import healpy as hp\n",
    "\n",
    "nside = 256  # Change this as needed; higher nside = finer resolution\n",
    "npix = hp.nside2npix(nside)\n",
    "\n",
    "# Create a blank HEALPix map\n",
    "healpix_map = np.zeros(npix)\n",
    "\n",
    "\n",
    "# Convert RA/Dec to pixel indices and fill the map\n",
    "pixels = hp.ang2pix(nside, np.pi/2 - dec, ra)\n",
    "np.add.at(healpix_map, pixels, 1)  # Count occurrences\n",
    "\n",
    "# Optionally, normalize or apply any other mapping as needed\n",
    "\n",
    "# Save or display the map\n",
    "hp.mollview(healpix_map, title=\"HEALPix Map\", unit=\"Count\", nest=False)"
   ]
  },
  {
   "cell_type": "code",
   "execution_count": 102,
   "metadata": {},
   "outputs": [
    {
     "name": "stdout",
     "output_type": "stream",
     "text": [
      "0.0002673082063619685 0 30\n",
      "0.006923540036122852 1 11\n",
      "-0.005892789253580072 2 46\n",
      "0.003911342894393643 7 19\n",
      "-0.009096077316657104 9 41\n",
      "-0.002107882096824402 10 35\n",
      "0.0016932167663015623 10 50\n",
      "-0.008577753182069792 12 39\n",
      "-5.5340343110234244e-05 12 42\n",
      "-0.00796365868434681 15 24\n",
      "0.0017534844755642033 15 29\n",
      "0.0028729281767956054 22 43\n",
      "0.0066298342541436465 22 54\n",
      "0.00742272100807242 23 24\n",
      "0.009640370539345038 24 29\n",
      "-0.0009170572651314217 25 38\n",
      "-0.0010189525168127166 25 45\n",
      "-0.008537559117990211 27 59\n",
      "-0.0006806150743635963 32 40\n",
      "-0.005419609131220345 33 55\n",
      "0.008741804558226698 34 46\n",
      "0.0037931034482759406 35 50\n",
      "0.00925002267162416 37 47\n",
      "0.0022218191711253317 37 49\n",
      "-0.00010180189351524253 38 45\n",
      "0.008449931412894332 39 42\n",
      "-0.006572769953051643 41 44\n",
      "0.003767730496453876 43 54\n",
      "-0.007093821510297535 47 49\n",
      "-0.003935532233882965 56 57\n",
      "-0.0064995672611876405 57 60\n",
      "0.002993160054719546 67 69\n"
     ]
    }
   ],
   "source": [
    "sigma8 = 0.834\n",
    "h = 0.674\n",
    "omegam = 0.3\n",
    "omegab = 0.05\n",
    "omegade = 1.0 - omegam\n",
    "w0 = -1\n",
    "wa = 0\n",
    "ns = 0.963\n",
    "neff = 3.046\n",
    "mnu = 0\n",
    "Tcmb0 = 2.725\n",
    "alpha_B = 0.5\n",
    "alpha_M = 0.5\n",
    "log_TAGN = 7.8\n",
    "ks = 1\n",
    "keys = ['sigma_8', 'h', 'omega_m', 'omega_b', 'omega_de', 'w0', 'wa',\n",
    "        'ns', 'neff', 'm_nu', 'Tcmb0', 'alpha_B', 'alpha_M', 'logTAGN', 'ks', 'delta_gamma']\n",
    "values = [sigma8, h, omegam, omegab, omegade,\n",
    "          w0, wa,  ns, neff, mnu, Tcmb0, alpha_B, alpha_M, log_TAGN, ks, 0.0]\n",
    "cosmo = dict(zip(keys, values))\n",
    "'''frb_cat = ascii.read(\"./../data/catalogue_updated.csv\", data_start=1)\n",
    "ra = coord.Angle(frb_cat[\"ra (deg)\"], unit=units.degree)\n",
    "dec = coord.Angle(frb_cat[\"dec (deg)\"], unit=units.degree)\n",
    "ra = ra.radian - np.pi\n",
    "dec = dec.radian\n",
    "counts = len(frb_cat[\"redshift\"])\n",
    "\n",
    "zet = frb_cat[\"redshift\"][:n_with_host]\n",
    "z = np.zeros(n_with_host)\n",
    "DM_obs = np.zeros(n_with_host)\n",
    "for i in range(len(zet)):\n",
    "    z[i] = zet[i]\n",
    "    sep = '&'\n",
    "    DM_obs[i] = frb_cat[\"dm\"][i]\n",
    "ra = ra[:n_with_host]\n",
    "dec = dec[:n_with_host]\n",
    "'''\n",
    "\n",
    "\n",
    "z = np.zeros(n_with_host)\n",
    "for i in range(len(zet)):\n",
    "    z[i] = zet[i]\n",
    "delta_theta = np.zeros((n_with_host, n_with_host))\n",
    "for i in range(n_with_host):\n",
    "    for j in range(n_with_host):\n",
    "        if (i != j):\n",
    "            if(np.abs(((DM_obs[i] - DM_obs[j])/DM_obs[i]))<0.01 and i < j):\n",
    "                print(((DM_obs[i] - DM_obs[j])/DM_obs[i]),i,j)\n",
    "            delta_theta[i, j] = np.arccos(np.sin(\n",
    "                ra[i])*np.sin(ra[j]) + np.cos(ra[i])*np.cos(ra[j])*np.cos(dec[i] - dec[j]))\n",
    "\n",
    "\n",
    "\n",
    "\n"
   ]
  },
  {
   "cell_type": "code",
   "execution_count": 103,
   "metadata": {},
   "outputs": [],
   "source": [
    "\n",
    "def gaussian_loglike(params):\n",
    "    sigma_mw = 30.0\n",
    "    sigma_host = 50.0\n",
    "    DM_host = params['DM_host']\n",
    "    A = params['A']\n",
    "    # mean DM is LSS contribution\n",
    "    cosmo['alpha_B'] = params['alpha_B']\n",
    "    cosmo['alpha_M'] = params['alpha_M']\n",
    "    cov = frb.covariance_frb_background(cosmo,bias_emu,power_emu,z,delta_theta, flat_sky=True)\n",
    "    result = 0.0\n",
    "    DM_mean = A*cov.DM + DM_host/(1.+z) + DM_MW\n",
    "    cov_mat = A**2*cov.covariance + np.diag((sigma_host/(1.+z)))**2 + np.diag(sigma_mw*np.ones(len(z)))**2 \n",
    "    precision_mat = np.linalg.inv(cov_mat)\n",
    "    log_det_cov = np.linalg.slogdet(cov_mat)[1]\n",
    "    delta = DM_obs - DM_mean\n",
    "    quadraticform = np.einsum(\n",
    "        'i,i', delta, np.einsum('ij,j', precision_mat, delta))\n",
    "    result = -.5*(log_det_cov) - .5*quadraticform  \n",
    "    return result\n",
    "\n",
    "def pdf_log_normal(x, mu, sigma):\n",
    "    return 1./(x*sigma*np.sqrt(np.pi))*np.exp(-(np.log(x) - mu)**2/2/sigma**2)\n",
    "\n",
    "def LSS_likelihood(DM_LSS, DM_mean, precision_mat, log_det_cov):\n",
    "    delta = DM_LSS - DM_mean\n",
    "    quadraticform = np.einsum(\n",
    "        'i,i', delta, np.einsum('ij,j', precision_mat, delta))\n",
    "    result = -.5*(log_det_cov) - .5*quadraticform\n",
    "    return np.exp(result)\n",
    "\n",
    "\n",
    "def final_likelihood(params):\n",
    "    sigma_host = 0.6\n",
    "    DM_host = np.log(50)\n",
    "    sigma_mw = 30.0\n",
    "    A = params['A']\n",
    "    # mean DM is LSS contribution\n",
    "    cosmo['alpha_B'] = params['alpha_B']\n",
    "    cosmo['alpha_M'] = params['alpha_M']\n",
    "    cov = frb.covariance_frb_background(cosmo,bias_emu,power_emu,z,delta_theta, flat_sky=True)\n",
    "    DM_mean = A*cov.DM + DM_MW\n",
    "    cov_mat = A**2*cov.covariance + np.diag(sigma_mw*np.ones(len(z)))**2 \n",
    "    precision_mat = np.linalg.inv(cov_mat)\n",
    "    log_det_cov = np.linalg.slogdet(cov_mat)[1]\n",
    "    N_int = 200\n",
    "    X_DM_host = np.linspace(1, 1000, N_int)\n",
    "    integrand = np.zeros_like(X_DM_host)\n",
    "    for i in range(N_int):\n",
    "        integrand[i] = LSS_likelihood(\n",
    "            DM_obs - X_DM_host[i]/(1.0+z), DM_mean, precision_mat, log_det_cov)*pdf_log_normal(X_DM_host[i], DM_host, sigma_host)\n",
    "    result = np.trapz(integrand, X_DM_host)\n",
    "    return np.log(result)\n",
    "\n",
    "\n",
    "def calc_model(params):\n",
    "    sigma_mw = 30.0\n",
    "    sigma_host = 50.0\n",
    "    DM_host = params['DM_host']\n",
    "    A = params['A']\n",
    "    # mean DM is LSS contribution\n",
    "    cosmo['alpha_B'] = params['alpha_B']\n",
    "    cosmo['alpha_M'] = params['alpha_M']\n",
    "    cov = frb.covariance_frb_background(cosmo,bias_emu,power_emu,z,delta_theta, flat_sky=True)\n",
    "    cov_mat = A**2*cov.covariance + np.diag((sigma_host/(1.+z)))**2 + np.diag(sigma_mw*np.ones(len(z)))**2 \n",
    "    delta = DM_obs - DM_MW - A*cov.DM - DM_host/(1.+z)\n",
    "    return A*cov.DM + DM_host/(1.+z), np.diag(np.sqrt(cov_mat)), np.dot(delta,np.dot(np.linalg.inv(cov_mat),delta))/len(delta)\n",
    "\n",
    "\n",
    "\n"
   ]
  },
  {
   "cell_type": "code",
   "execution_count": 104,
   "metadata": {},
   "outputs": [
    {
     "name": "stdout",
     "output_type": "stream",
     "text": [
      "0\n",
      "Calculating FRB-Covariance\n"
     ]
    },
    {
     "name": "stderr",
     "output_type": "stream",
     "text": [
      "100%|██████████| 71/71 [00:19<00:00,  3.65it/s]\n"
     ]
    },
    {
     "name": "stdout",
     "output_type": "stream",
     "text": [
      "Calculating FRB-Covariance\n"
     ]
    },
    {
     "name": "stderr",
     "output_type": "stream",
     "text": [
      "100%|██████████| 71/71 [00:19<00:00,  3.67it/s]\n",
      "/var/folders/4k/46233y0d3tx9bcbm7l78j0mr0000gn/T/ipykernel_29236/1238060553.py:51: DeprecationWarning: `trapz` is deprecated. Use `trapezoid` instead, or one of the numerical integration functions in `scipy.integrate`.\n",
      "  result = np.trapz(integrand, X_DM_host)\n"
     ]
    },
    {
     "name": "stdout",
     "output_type": "stream",
     "text": [
      "Calculating FRB-Covariance\n"
     ]
    },
    {
     "name": "stderr",
     "output_type": "stream",
     "text": [
      "100%|██████████| 71/71 [00:19<00:00,  3.66it/s]\n"
     ]
    },
    {
     "name": "stdout",
     "output_type": "stream",
     "text": [
      "Calculating FRB-Covariance\n"
     ]
    },
    {
     "name": "stderr",
     "output_type": "stream",
     "text": [
      "100%|██████████| 71/71 [00:20<00:00,  3.54it/s]\n"
     ]
    },
    {
     "name": "stdout",
     "output_type": "stream",
     "text": [
      "1\n",
      "Calculating FRB-Covariance\n"
     ]
    },
    {
     "name": "stderr",
     "output_type": "stream",
     "text": [
      "100%|██████████| 71/71 [00:19<00:00,  3.67it/s]\n"
     ]
    },
    {
     "name": "stdout",
     "output_type": "stream",
     "text": [
      "Calculating FRB-Covariance\n"
     ]
    },
    {
     "name": "stderr",
     "output_type": "stream",
     "text": [
      "100%|██████████| 71/71 [00:20<00:00,  3.52it/s]\n"
     ]
    },
    {
     "name": "stdout",
     "output_type": "stream",
     "text": [
      "Calculating FRB-Covariance\n"
     ]
    },
    {
     "name": "stderr",
     "output_type": "stream",
     "text": [
      "100%|██████████| 71/71 [00:19<00:00,  3.71it/s]\n"
     ]
    },
    {
     "name": "stdout",
     "output_type": "stream",
     "text": [
      "Calculating FRB-Covariance\n"
     ]
    },
    {
     "name": "stderr",
     "output_type": "stream",
     "text": [
      "100%|██████████| 71/71 [00:19<00:00,  3.68it/s]\n"
     ]
    },
    {
     "name": "stdout",
     "output_type": "stream",
     "text": [
      "2\n",
      "Calculating FRB-Covariance\n"
     ]
    },
    {
     "name": "stderr",
     "output_type": "stream",
     "text": [
      "100%|██████████| 71/71 [00:19<00:00,  3.68it/s]\n"
     ]
    },
    {
     "name": "stdout",
     "output_type": "stream",
     "text": [
      "Calculating FRB-Covariance\n"
     ]
    },
    {
     "name": "stderr",
     "output_type": "stream",
     "text": [
      "100%|██████████| 71/71 [00:19<00:00,  3.67it/s]\n"
     ]
    },
    {
     "name": "stdout",
     "output_type": "stream",
     "text": [
      "Calculating FRB-Covariance\n"
     ]
    },
    {
     "name": "stderr",
     "output_type": "stream",
     "text": [
      "100%|██████████| 71/71 [00:19<00:00,  3.66it/s]\n"
     ]
    },
    {
     "name": "stdout",
     "output_type": "stream",
     "text": [
      "Calculating FRB-Covariance\n"
     ]
    },
    {
     "name": "stderr",
     "output_type": "stream",
     "text": [
      "100%|██████████| 71/71 [00:19<00:00,  3.58it/s]\n"
     ]
    },
    {
     "name": "stdout",
     "output_type": "stream",
     "text": [
      "3\n",
      "Calculating FRB-Covariance\n"
     ]
    },
    {
     "name": "stderr",
     "output_type": "stream",
     "text": [
      "100%|██████████| 71/71 [00:19<00:00,  3.65it/s]\n"
     ]
    },
    {
     "name": "stdout",
     "output_type": "stream",
     "text": [
      "Calculating FRB-Covariance\n"
     ]
    },
    {
     "name": "stderr",
     "output_type": "stream",
     "text": [
      "100%|██████████| 71/71 [00:19<00:00,  3.55it/s]\n"
     ]
    },
    {
     "name": "stdout",
     "output_type": "stream",
     "text": [
      "Calculating FRB-Covariance\n"
     ]
    },
    {
     "name": "stderr",
     "output_type": "stream",
     "text": [
      "100%|██████████| 71/71 [00:20<00:00,  3.51it/s]\n"
     ]
    },
    {
     "name": "stdout",
     "output_type": "stream",
     "text": [
      "Calculating FRB-Covariance\n"
     ]
    },
    {
     "name": "stderr",
     "output_type": "stream",
     "text": [
      "100%|██████████| 71/71 [00:19<00:00,  3.63it/s]\n"
     ]
    },
    {
     "name": "stdout",
     "output_type": "stream",
     "text": [
      "4\n",
      "Calculating FRB-Covariance\n"
     ]
    },
    {
     "name": "stderr",
     "output_type": "stream",
     "text": [
      "100%|██████████| 71/71 [00:19<00:00,  3.66it/s]\n"
     ]
    },
    {
     "name": "stdout",
     "output_type": "stream",
     "text": [
      "Calculating FRB-Covariance\n"
     ]
    },
    {
     "name": "stderr",
     "output_type": "stream",
     "text": [
      "100%|██████████| 71/71 [00:19<00:00,  3.60it/s]\n"
     ]
    },
    {
     "name": "stdout",
     "output_type": "stream",
     "text": [
      "Calculating FRB-Covariance\n"
     ]
    },
    {
     "name": "stderr",
     "output_type": "stream",
     "text": [
      "100%|██████████| 71/71 [00:19<00:00,  3.62it/s]\n"
     ]
    },
    {
     "name": "stdout",
     "output_type": "stream",
     "text": [
      "Calculating FRB-Covariance\n"
     ]
    },
    {
     "name": "stderr",
     "output_type": "stream",
     "text": [
      "100%|██████████| 71/71 [00:19<00:00,  3.62it/s]\n"
     ]
    },
    {
     "name": "stdout",
     "output_type": "stream",
     "text": [
      "5\n",
      "Calculating FRB-Covariance\n"
     ]
    },
    {
     "name": "stderr",
     "output_type": "stream",
     "text": [
      "100%|██████████| 71/71 [00:19<00:00,  3.64it/s]\n"
     ]
    },
    {
     "name": "stdout",
     "output_type": "stream",
     "text": [
      "Calculating FRB-Covariance\n"
     ]
    },
    {
     "name": "stderr",
     "output_type": "stream",
     "text": [
      "100%|██████████| 71/71 [00:19<00:00,  3.65it/s]\n"
     ]
    },
    {
     "name": "stdout",
     "output_type": "stream",
     "text": [
      "Calculating FRB-Covariance\n"
     ]
    },
    {
     "name": "stderr",
     "output_type": "stream",
     "text": [
      "100%|██████████| 71/71 [00:19<00:00,  3.67it/s]\n"
     ]
    },
    {
     "name": "stdout",
     "output_type": "stream",
     "text": [
      "Calculating FRB-Covariance\n"
     ]
    },
    {
     "name": "stderr",
     "output_type": "stream",
     "text": [
      "100%|██████████| 71/71 [00:19<00:00,  3.65it/s]\n"
     ]
    },
    {
     "name": "stdout",
     "output_type": "stream",
     "text": [
      "6\n",
      "Calculating FRB-Covariance\n"
     ]
    },
    {
     "name": "stderr",
     "output_type": "stream",
     "text": [
      "100%|██████████| 71/71 [00:19<00:00,  3.66it/s]\n"
     ]
    },
    {
     "name": "stdout",
     "output_type": "stream",
     "text": [
      "Calculating FRB-Covariance\n"
     ]
    },
    {
     "name": "stderr",
     "output_type": "stream",
     "text": [
      "100%|██████████| 71/71 [00:19<00:00,  3.66it/s]\n"
     ]
    },
    {
     "name": "stdout",
     "output_type": "stream",
     "text": [
      "Calculating FRB-Covariance\n"
     ]
    },
    {
     "name": "stderr",
     "output_type": "stream",
     "text": [
      "100%|██████████| 71/71 [00:19<00:00,  3.67it/s]\n"
     ]
    },
    {
     "name": "stdout",
     "output_type": "stream",
     "text": [
      "Calculating FRB-Covariance\n"
     ]
    },
    {
     "name": "stderr",
     "output_type": "stream",
     "text": [
      "100%|██████████| 71/71 [00:19<00:00,  3.65it/s]\n"
     ]
    },
    {
     "name": "stdout",
     "output_type": "stream",
     "text": [
      "7\n",
      "Calculating FRB-Covariance\n"
     ]
    },
    {
     "name": "stderr",
     "output_type": "stream",
     "text": [
      "100%|██████████| 71/71 [00:19<00:00,  3.67it/s]\n"
     ]
    },
    {
     "name": "stdout",
     "output_type": "stream",
     "text": [
      "Calculating FRB-Covariance\n"
     ]
    },
    {
     "name": "stderr",
     "output_type": "stream",
     "text": [
      "100%|██████████| 71/71 [00:19<00:00,  3.63it/s]\n"
     ]
    },
    {
     "name": "stdout",
     "output_type": "stream",
     "text": [
      "Calculating FRB-Covariance\n"
     ]
    },
    {
     "name": "stderr",
     "output_type": "stream",
     "text": [
      "100%|██████████| 71/71 [00:19<00:00,  3.66it/s]\n"
     ]
    },
    {
     "name": "stdout",
     "output_type": "stream",
     "text": [
      "Calculating FRB-Covariance\n"
     ]
    },
    {
     "name": "stderr",
     "output_type": "stream",
     "text": [
      "100%|██████████| 71/71 [00:19<00:00,  3.67it/s]\n"
     ]
    },
    {
     "name": "stdout",
     "output_type": "stream",
     "text": [
      "8\n",
      "Calculating FRB-Covariance\n"
     ]
    },
    {
     "name": "stderr",
     "output_type": "stream",
     "text": [
      "100%|██████████| 71/71 [00:19<00:00,  3.67it/s]\n"
     ]
    },
    {
     "name": "stdout",
     "output_type": "stream",
     "text": [
      "Calculating FRB-Covariance\n"
     ]
    },
    {
     "name": "stderr",
     "output_type": "stream",
     "text": [
      "100%|██████████| 71/71 [00:19<00:00,  3.63it/s]\n"
     ]
    },
    {
     "name": "stdout",
     "output_type": "stream",
     "text": [
      "Calculating FRB-Covariance\n"
     ]
    },
    {
     "name": "stderr",
     "output_type": "stream",
     "text": [
      "100%|██████████| 71/71 [00:19<00:00,  3.66it/s]\n"
     ]
    },
    {
     "name": "stdout",
     "output_type": "stream",
     "text": [
      "Calculating FRB-Covariance\n"
     ]
    },
    {
     "name": "stderr",
     "output_type": "stream",
     "text": [
      "100%|██████████| 71/71 [00:19<00:00,  3.62it/s]\n"
     ]
    },
    {
     "name": "stdout",
     "output_type": "stream",
     "text": [
      "9\n",
      "Calculating FRB-Covariance\n"
     ]
    },
    {
     "name": "stderr",
     "output_type": "stream",
     "text": [
      "100%|██████████| 71/71 [00:19<00:00,  3.65it/s]\n"
     ]
    },
    {
     "name": "stdout",
     "output_type": "stream",
     "text": [
      "Calculating FRB-Covariance\n"
     ]
    },
    {
     "name": "stderr",
     "output_type": "stream",
     "text": [
      "100%|██████████| 71/71 [00:19<00:00,  3.63it/s]\n"
     ]
    }
   ],
   "source": [
    "alpha_B = np.linspace(0,2.5,10)\n",
    "alpha_M = np.linspace(0,2.5,10)\n",
    "\n",
    "loglike_alpha_B = np.zeros_like(alpha_B)\n",
    "loglike_alpha_M = np.zeros_like(alpha_B)\n",
    "loglike_alpha_B_ln = np.zeros_like(alpha_B)\n",
    "loglike_alpha_M_ln = np.zeros_like(alpha_B)\n",
    "\n",
    "params = {'A':1,'DM_host':50,'alpha_B':0.05, 'alpha_M' : 0.05}\n",
    "\n",
    "for i in range(len(alpha_B)):\n",
    "    print(i)\n",
    "    params['alpha_B'] = alpha_B[i]\n",
    "    params['alpha_M'] = 0.05\n",
    "    if alpha_B[i] < 2.5:\n",
    "        loglike_alpha_B[i] = gaussian_loglike(params)\n",
    "        loglike_alpha_B_ln[i] = final_likelihood(params)\n",
    "    else:\n",
    "        loglike_alpha_B[i] = -1e200\n",
    "        loglike_alpha_B_ln[i] = -1e200\n",
    "    \n",
    "    params['alpha_M'] = alpha_M[i]\n",
    "    params['alpha_B'] = 0.05\n",
    "    loglike_alpha_M[i] = gaussian_loglike(params)\n",
    "    loglike_alpha_M_ln[i] = final_likelihood(params)\n"
   ]
  },
  {
   "cell_type": "code",
   "execution_count": 111,
   "metadata": {},
   "outputs": [
    {
     "data": {
      "text/plain": [
       "[<matplotlib.lines.Line2D at 0x3104897f0>]"
      ]
     },
     "execution_count": 111,
     "metadata": {},
     "output_type": "execute_result"
    },
    {
     "data": {
      "image/png": "[encoded data removed]",
      "text/plain": [
       "<Figure size 640x480 with 1 Axes>"
      ]
     },
     "metadata": {},
     "output_type": "display_data"
    }
   ],
   "source": [
    "plt.plot(loglike_alpha_B - np.max(loglike_alpha_B))"
   ]
  },
  {
   "cell_type": "code",
   "execution_count": 120,
   "metadata": {},
   "outputs": [
    {
     "data": {
      "image/png": "[encoded data removed]",
      "text/plain": [
       "<Figure size 640x480 with 1 Axes>"
      ]
     },
     "metadata": {},
     "output_type": "display_data"
    }
   ],
   "source": [
    "import os \n",
    "os.environ[\"PATH\"] += os.pathsep + '/Library/TeX/texbin'\n",
    "fig, ax = plt.subplots()\n",
    "\n",
    "fontsi = 16\n",
    "fontsi2 = 22\n",
    "\n",
    "plt.tick_params(labelsize=fontsi)\n",
    "\n",
    "\n",
    "plt.rc('text', usetex=True)\n",
    "plt.rc('font', family='sans-serif')\n",
    "plt.rc('image', interpolation='none')\n",
    "fac = 1\n",
    "plt.plot(alpha_B[:-1], np.exp(fac*(loglike_alpha_B - np.max(loglike_alpha_B)))[:-1], label = r\"$\\hat{\\alpha}_\\mathrm{B}$\", color = \"blue\")\n",
    "plt.plot(alpha_M, np.exp(fac*(loglike_alpha_M - np.max(loglike_alpha_M))), label = r\"$\\hat{\\alpha}_\\mathrm{M}$\", color = \"orange\")\n",
    "\n",
    "\n",
    "alpha_B_aux = np.linspace(alpha_B[-2],alpha_B[-1],100)\n",
    "like_B_aux = np.zeros_like(alpha_B_aux)\n",
    "like_B_aux[0] = np.exp(fac*(loglike_alpha_B - np.max(loglike_alpha_B)))[-2]\n",
    "\n",
    "plt.plot(alpha_B_aux, like_B_aux, color = \"blue\")\n",
    "\n",
    "like_B_aux[0] = np.exp(fac*(loglike_alpha_B_ln - np.max(loglike_alpha_B_ln)))[-2]\n",
    "\n",
    "plt.plot(alpha_B_aux, like_B_aux, color = \"blue\", ls = \"--\")\n",
    "\n",
    "\n",
    "plt.plot(alpha_B[:-1], np.exp(fac*(loglike_alpha_B_ln - np.max(loglike_alpha_B_ln)))[:-1], color = \"blue\", ls = \"--\")\n",
    "plt.plot(alpha_M, np.exp(fac*(loglike_alpha_M_ln - np.max(loglike_alpha_M_ln))), color = \"orange\", ls = \"--\")\n",
    "\n",
    "plt.xlabel(r\"$\\hat{\\alpha}_i$\", fontsize = fontsi2)\n",
    "plt.ylabel(r\"$\\mathrm{posterior}$\", fontsize = fontsi2)\n",
    "\n",
    "plt.legend(fontsize = fontsi2, frameon = False)\n",
    "plt.xlim(0,2.5)\n",
    "#plt.tight_layout()\n",
    "plt.savefig(\"fit_host_frb.pdf\")\n"
   ]
  },
  {
   "cell_type": "code",
   "execution_count": 107,
   "metadata": {},
   "outputs": [
    {
     "name": "stdout",
     "output_type": "stream",
     "text": [
      "Calculating FRB-Covariance\n"
     ]
    },
    {
     "name": "stderr",
     "output_type": "stream",
     "text": [
      "100%|██████████| 71/71 [00:19<00:00,  3.63it/s]\n"
     ]
    }
   ],
   "source": [
    "params = {'A':1.1,'DM_host':90,'alpha_B':0.05, 'alpha_M' : 0.05}\n",
    "\n",
    "model, error, chi2 = calc_model(params)\n"
   ]
  },
  {
   "cell_type": "code",
   "execution_count": 108,
   "metadata": {},
   "outputs": [
    {
     "name": "stderr",
     "output_type": "stream",
     "text": [
      "<>:20: SyntaxWarning: invalid escape sequence '\\m'\n",
      "<>:20: SyntaxWarning: invalid escape sequence '\\m'\n",
      "/var/folders/4k/46233y0d3tx9bcbm7l78j0mr0000gn/T/ipykernel_29236/2595851804.py:20: SyntaxWarning: invalid escape sequence '\\m'\n",
      "  plt.ylabel(\"$\\mathrm{DM} [\\mathrm{pc}\\;\\mathrm{cm}^{-3}]$\", fontsize = fontsi2)\n"
     ]
    },
    {
     "data": {
      "image/png": "[encoded data removed]",
      "text/plain": [
       "<Figure size 640x480 with 1 Axes>"
      ]
     },
     "metadata": {},
     "output_type": "display_data"
    }
   ],
   "source": [
    "fig, ax = plt.subplots()\n",
    "\n",
    "fontsi = 16\n",
    "fontsi2 = 22\n",
    "\n",
    "plt.tick_params(labelsize=fontsi)\n",
    "\n",
    "\n",
    "plt.rc('text', usetex=True)\n",
    "plt.rc('font', family='sans-serif')\n",
    "plt.rc('image', interpolation='none')\n",
    "\n",
    "\n",
    "idx = np.where((DM_obs - DM_MW > 0) & (DM_obs < 1000))[0]\n",
    "plt.errorbar(z, DM_obs - DM_MW , error, ls =\"\", marker = \"o\", color = \"#2A63AA\", alpha = .7)\n",
    "\n",
    "#plt.errorbar(z[idx], DM_obs[idx] - DM_MW[idx] , error[idx], ls =\"\", marker = \"o\")\n",
    "plt.plot(np.sort(z), np.sort(model), lw = 3, color=\"#F4C643\")\n",
    "plt.xlabel(\"$z$\", fontsize = fontsi2)\n",
    "plt.ylabel(\"$\\mathrm{DM} [\\mathrm{pc}\\;\\mathrm{cm}^{-3}]$\", fontsize = fontsi2)\n",
    "plt.tight_layout()\n",
    "plt.savefig(\"model.pdf\")\n"
   ]
  },
  {
   "cell_type": "code",
   "execution_count": 109,
   "metadata": {},
   "outputs": [
    {
     "name": "stdout",
     "output_type": "stream",
     "text": [
      "FRB20230708A 411.51\n",
      "FRB20191106C 332.2\n",
      "FRB20220914A 631.28\n",
      "FRB20190608 339.5\n",
      "FRB20190110C 221.6\n",
      "FRB20240310A 601.8\n",
      "FRB20240213A 357.4\n",
      "FRB20230628A 345.15\n",
      "FRB20210807D 251.3\n",
      "FRB20240114A 527.7\n",
      "FRB20210410D 578.78\n",
      "FRB20231226A 329.9\n",
      "FRB20230526A 361.4\n",
      "FRB20220920A 314.99\n",
      "FRB20200430 380.25\n",
      "FRB20210603A 500.147\n",
      "FRB20220529A 246.0\n",
      "FRB20220725A 290.4\n",
      "FRB20121102 557.0\n",
      "FRB20221106A 343.8\n",
      "FRB20240215A 549.5\n",
      "FRB20210117A 728.95\n",
      "FRB20221027A 452.5\n",
      "FRB20191001 507.9\n",
      "FRB20190714 504.13\n",
      "FRB20221101B 490.7\n",
      "FRB20190520B 1210.3\n",
      "FRB20220825A 651.24\n",
      "FRB20191228 297.5\n",
      "FRB20220307B 499.27\n",
      "FRB20221113A 411.4\n",
      "FRB20220831A 1146.25\n",
      "FRB20231123B 396.7\n",
      "FRB20230307A 608.9\n",
      "FRB20221116A 640.6\n",
      "FRB20220105A 580.0\n",
      "FRB20210320C 384.8\n",
      "FRB20221012A 441.08\n",
      "FRB20240229A 491.15\n",
      "FRB20190102 364.5\n",
      "FRB20220506D 396.97\n",
      "FRB20230501A 532.5\n",
      "FRB20180924 361.42\n",
      "FRB20230626A 451.2\n",
      "FRB20180301 536.0\n",
      "FRB20231220A 491.2\n",
      "FRB20211203C 635.0\n",
      "FRB20220208A 437.0\n",
      "FRB20220726A 686.55\n",
      "FRB20230902A 440.1\n",
      "FRB20200906 577.8\n",
      "FRB20240119A 483.1\n",
      "FRB20220330D 468.1\n",
      "FRB20190611 321.4\n",
      "FRB20220501C 449.5\n",
      "FRB20220204A 612.2\n",
      "FRB20230712A 586.96\n",
      "FRB20181112 589.27\n",
      "FRB20220310F 462.24\n",
      "FRB20220918A 656.8\n",
      "FRB20190711 593.1\n",
      "FRB20230216A 828.0\n",
      "FRB20230814A 696.4\n",
      "FRB20221219A 706.7\n",
      "FRB20190614 959.2\n",
      "FRB20220418A 623.25\n",
      "FRB20190523 760.8\n",
      "FRB20240123A 1462.0\n",
      "FRB20221029A 1391.05\n",
      "FRB20220610A 1457.624\n",
      "FRB20230521B 1342.9\n"
     ]
    }
   ],
   "source": [
    "frb_name_new = []\n",
    "for i in take_index:\n",
    "    numbers = \"\".join([char for char in frb_name[i] if char.isdigit()])\n",
    "    frb_name_new.append((frb_name[i]))\n",
    "    \n",
    "for i in range(n_with_host):\n",
    "    print(frb_name_new[i], DM_obs[i])\n",
    "\n",
    "\n",
    "\n"
   ]
  },
  {
   "cell_type": "code",
   "execution_count": 110,
   "metadata": {},
   "outputs": [
    {
     "ename": "ModuleNotFoundError",
     "evalue": "No module named 'nautilus'",
     "output_type": "error",
     "traceback": [
      "\u001b[0;31m---------------------------------------------------------------------------\u001b[0m",
      "\u001b[0;31mModuleNotFoundError\u001b[0m                       Traceback (most recent call last)",
      "Cell \u001b[0;32mIn[110], line 2\u001b[0m\n\u001b[1;32m      1\u001b[0m \u001b[38;5;28;01mfrom\u001b[39;00m \u001b[38;5;21;01mscipy\u001b[39;00m\u001b[38;5;21;01m.\u001b[39;00m\u001b[38;5;21;01mstats\u001b[39;00m \u001b[38;5;28;01mimport\u001b[39;00m norm\n\u001b[0;32m----> 2\u001b[0m \u001b[38;5;28;01mfrom\u001b[39;00m \u001b[38;5;21;01mnautilus\u001b[39;00m \u001b[38;5;28;01mimport\u001b[39;00m Prior\n\u001b[1;32m      3\u001b[0m \u001b[38;5;28;01mfrom\u001b[39;00m \u001b[38;5;21;01mnautilus\u001b[39;00m \u001b[38;5;28;01mimport\u001b[39;00m Sampler\n\u001b[1;32m      5\u001b[0m prior \u001b[38;5;241m=\u001b[39m Prior()\n",
      "\u001b[0;31mModuleNotFoundError\u001b[0m: No module named 'nautilus'"
     ]
    }
   ],
   "source": [
    "from scipy.stats import norm\n",
    "from nautilus import Prior\n",
    "from nautilus import Sampler\n",
    "\n",
    "prior = Prior()\n",
    "prior.add_parameter('alpha_B', dist=(0, 2.5))\n",
    "prior.add_parameter('alpha_M', dist=(0, 3))\n",
    "prior.add_parameter('A', dist=(0.5,10))\n",
    "prior.add_parameter('DM_host', dist=(10,500))\n",
    "\n",
    "\n",
    "sampler = Sampler(prior, gaussian_loglike, n_live=100, filepath='sampling_100.hdf5')\n",
    "sampler.run(verbose=True)\n"
   ]
  },
  {
   "cell_type": "code",
   "execution_count": null,
   "metadata": {},
   "outputs": [
    {
     "data": {
      "text/plain": [
       "(array([0.010938  , 0.01169948, 0.01663593, 0.01990546, 0.02123789,\n",
       "        0.02264037, 0.02431976, 0.02990346, 0.0301291 , 0.03719258,\n",
       "        0.04341719, 0.04340533, 0.04570413, 0.04882607, 0.05692185,\n",
       "        0.0579252 , 0.06239415, 0.06271223, 0.05552515, 0.05363873,\n",
       "        0.04970588, 0.04075964, 0.03986504, 0.03283083, 0.02849487,\n",
       "        0.02253242, 0.01207352, 0.0093144 , 0.0062106 , 0.00314073]),\n",
       " array([7.45277991e-04, 8.40398113e-02, 1.67334345e-01, 2.50628878e-01,\n",
       "        3.33923411e-01, 4.17217944e-01, 5.00512478e-01, 5.83807011e-01,\n",
       "        6.67101544e-01, 7.50396077e-01, 8.33690611e-01, 9.16985144e-01,\n",
       "        1.00027968e+00, 1.08357421e+00, 1.16686874e+00, 1.25016328e+00,\n",
       "        1.33345781e+00, 1.41675234e+00, 1.50004688e+00, 1.58334141e+00,\n",
       "        1.66663594e+00, 1.74993048e+00, 1.83322501e+00, 1.91651954e+00,\n",
       "        1.99981408e+00, 2.08310861e+00, 2.16640314e+00, 2.24969768e+00,\n",
       "        2.33299221e+00, 2.41628674e+00, 2.49958128e+00]),\n",
       " <BarContainer object of 30 artists>)"
      ]
     },
     "execution_count": 16,
     "metadata": {},
     "output_type": "execute_result"
    },
    {
     "data": {
      "image/png": "[encoded data removed]",
      "text/plain": [
       "<Figure size 640x480 with 1 Axes>"
      ]
     },
     "metadata": {},
     "output_type": "display_data"
    }
   ],
   "source": [
    "points, log_w, log_l = sampler.posterior()\n",
    "plt.hist(points[:,0], bins = 30, weights=np.exp(log_w))"
   ]
  },
  {
   "cell_type": "code",
   "execution_count": null,
   "metadata": {},
   "outputs": [],
   "source": [
    "s = np.random.normal(100, 50, 10000)"
   ]
  }
 ],
 "metadata": {
  "kernelspec": {
   "display_name": "frb_cat_env",
   "language": "python",
   "name": "python3"
  },
  "language_info": {
   "codemirror_mode": {
    "name": "ipython",
    "version": 3
   },
   "file_extension": ".py",
   "mimetype": "text/x-python",
   "name": "python",
   "nbconvert_exporter": "python",
   "pygments_lexer": "ipython3",
   "version": "3.12.7"
  }
 },
 "nbformat": 4,
 "nbformat_minor": 2
}

{
 "cells": [
  {
   "cell_type": "code",
   "execution_count": 1,
   "metadata": {},
   "outputs": [
    {
     "name": "stderr",
     "output_type": "stream",
     "text": [
      "2024-03-21 11:55:44.041359: I tensorflow/core/platform/cpu_feature_guard.cc:210] This TensorFlow binary is optimized to use available CPU instructions in performance-critical operations.\n",
      "To enable the following instructions: AVX2 AVX512F AVX512_VNNI FMA, in other operations, rebuild TensorFlow with the appropriate compiler flags.\n"
     ]
    }
   ],
   "source": [
    "import cosmopower as cp\n",
    "import frb_cov as frb\n",
    "from astropy.io import ascii\n",
    "import astropy.coordinates as coord\n",
    "import astropy.units as units\n",
    "import numpy as np\n",
    "from astropy.coordinates import Longitude, Latitude\n",
    "import matplotlib.pyplot as plt\n"
   ]
  },
  {
   "cell_type": "markdown",
   "metadata": {},
   "source": [
    "Load Emulators"
   ]
  },
  {
   "cell_type": "code",
   "execution_count": 2,
   "metadata": {},
   "outputs": [],
   "source": [
    "bias_emu = cp.cosmopower_NN(restore=True, restore_filename=\"./../cosmopower/bias_sq_model\")\n",
    "power_emu = cp.cosmopower_NN(restore=True, restore_filename=\"./../cosmopower/pkmm_nonlin_model\")\n"
   ]
  },
  {
   "cell_type": "markdown",
   "metadata": {},
   "source": [
    "Define fiducial cosmology and initialise cosmo dictionary\n"
   ]
  },
  {
   "cell_type": "code",
   "execution_count": 3,
   "metadata": {},
   "outputs": [],
   "source": [
    "sigma8 = 0.834\n",
    "h = 0.674\n",
    "omegam = 0.3\n",
    "omegab = 0.05\n",
    "omegade = 1.0 - omegam\n",
    "w0 = -1\n",
    "wa = 0\n",
    "ns = 0.963\n",
    "neff = 3.046\n",
    "mnu = 0\n",
    "Tcmb0 = 2.725\n",
    "alpha_B = 0.5\n",
    "alpha_M = 0.5\n",
    "log_TAGN = 7.8\n",
    "ks = 0.1\n",
    "keys = ['sigma_8', 'h', 'omega_m', 'omega_b', 'omega_de', 'w0', 'wa',\n",
    "        'ns', 'neff', 'm_nu', 'Tcmb0', 'alpha_B', 'alpha_M', 'logTAGN', 'ks']\n",
    "values = [sigma8, h, omegam, omegab, omegade,\n",
    "          w0, wa,  ns, neff, mnu, Tcmb0, alpha_B, alpha_M, log_TAGN, ks]\n",
    "cosmo = dict(zip(keys, values))"
   ]
  },
  {
   "cell_type": "markdown",
   "metadata": {},
   "source": [
    "Prepare FRB SAMPLE"
   ]
  },
  {
   "cell_type": "code",
   "execution_count": 4,
   "metadata": {},
   "outputs": [],
   "source": [
    "frb_cat = ascii.read(\"./../data/catalogue_updated.csv\", data_start=1)\n",
    "ra = coord.Angle(frb_cat[\"ra (deg)\"], unit=units.degree)\n",
    "dec = coord.Angle(frb_cat[\"dec (deg)\"], unit=units.degree)\n",
    "ra = ra.radian - np.pi\n",
    "dec = dec.radian\n",
    "\n",
    "counts = len(frb_cat[\"redshift\"])\n",
    "n_with_host = counts\n",
    "zet = frb_cat[\"redshift\"][:n_with_host]\n",
    "z = np.zeros(n_with_host)\n",
    "DM_obs = np.zeros(n_with_host)\n",
    "for i in range(len(zet)):\n",
    "    z[i] = zet[i]\n",
    "    sep = '&'\n",
    "    DM_obs[i] = frb_cat[\"dm\"][i]\n",
    "ra = ra[:n_with_host]\n",
    "dec = dec[:n_with_host]\n",
    "\n",
    "delta_theta = np.zeros((n_with_host, n_with_host))\n",
    "for i in range(n_with_host):\n",
    "    for j in range(n_with_host):\n",
    "        if (i != j):\n",
    "            delta_theta[i, j] = np.arccos(np.sin(\n",
    "                ra[i])*np.sin(ra[j]) + np.cos(ra[i])*np.cos(ra[j])*np.cos(dec[i] - dec[j]))\n"
   ]
  },
  {
   "cell_type": "code",
   "execution_count": 5,
   "metadata": {},
   "outputs": [],
   "source": [
    "cov = frb.covariance_frb_background(cosmo,bias_emu,power_emu,z,delta_theta,300)"
   ]
  },
  {
   "cell_type": "code",
   "execution_count": 9,
   "metadata": {},
   "outputs": [
    {
     "data": {
      "text/plain": [
       "<matplotlib.image.AxesImage at 0x1a1f79a10>"
      ]
     },
     "execution_count": 9,
     "metadata": {},
     "output_type": "execute_result"
    },
    {
     "data": {
      "image/png": "[encoded data removed]",
      "text/plain": [
       "<Figure size 640x480 with 1 Axes>"
      ]
     },
     "metadata": {},
     "output_type": "display_data"
    }
   ],
   "source": [
    "cov.get_covariance_flat_sky()\n",
    "corr = cov.covariance/(np.diag(cov.covariance)[:, None]*np.diag(cov.covariance)[None, :])**.5\n",
    "plt.imshow(corr)\n"
   ]
  }
 ],
 "metadata": {
  "kernelspec": {
   "display_name": "frb_env",
   "language": "python",
   "name": "python3"
  },
  "language_info": {
   "codemirror_mode": {
    "name": "ipython",
    "version": 3
   },
   "file_extension": ".py",
   "mimetype": "text/x-python",
   "name": "python",
   "nbconvert_exporter": "python",
   "pygments_lexer": "ipython3",
   "version": "3.11.0"
  }
 },
 "nbformat": 4,
 "nbformat_minor": 2
}

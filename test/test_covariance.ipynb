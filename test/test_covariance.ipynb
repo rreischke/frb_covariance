{
 "cells": [
  {
   "cell_type": "code",
   "execution_count": 1,
   "metadata": {},
   "outputs": [],
   "source": [
    "import cosmopower as cp\n",
    "import frb_cov as frb\n",
    "import astropy.coordinates as coord\n",
    "from astropy.coordinates import SkyCoord\n",
    "import astropy.units as units\n",
    "import numpy as np\n",
    "import matplotlib.pyplot as plt\n",
    "import pandas as pd"
   ]
  },
  {
   "cell_type": "markdown",
   "metadata": {},
   "source": [
    "Load Emulators"
   ]
  },
  {
   "cell_type": "code",
   "execution_count": 2,
   "metadata": {},
   "outputs": [],
   "source": [
    "bias_emu = cp.cosmopower_NN(restore=True, restore_filename=\"./../cosmopower/bias_sq_model\")\n",
    "power_emu = cp.cosmopower_NN(restore=True, restore_filename=\"./../cosmopower/pkmm_nonlin_model\")\n"
   ]
  },
  {
   "cell_type": "markdown",
   "metadata": {},
   "source": [
    "Define fiducial cosmology and initialise cosmo dictionary\n"
   ]
  },
  {
   "cell_type": "code",
   "execution_count": 3,
   "metadata": {},
   "outputs": [],
   "source": [
    "sigma8 = 0.834  # fluctuation amplitude\n",
    "h = 0.674       # Hubble constant\n",
    "omegam = 0.3    # matter density parameter\n",
    "omegab = 0.05   # baryon density parameter\n",
    "omegade = 1.0 - omegam # DE density parameter\n",
    "w0 = -1         # DE equation of state\n",
    "wa = 0          # DE equation of state\n",
    "ns = 0.963      # spectral index of primordial power spectrum\n",
    "neff = 3.046    # effective number of relativistic degrees of freedom\n",
    "mnu = 0         # Neutrino mass in eV\n",
    "Tcmb0 = 2.725   \n",
    "alpha_B = 0.1   # Horndeski braiding\n",
    "alpha_M = 0.1   # Horndeski Planck mass running\n",
    "log_TAGN = 7.8  # feedback parameter (Mead2020)\n",
    "ks = 0.1        # screening scale for modified gravity\n",
    "delta_gamma = 0. # is there EP breaking=?\n",
    "keys = ['sigma_8', 'h', 'omega_m', 'omega_b', 'omega_de', 'w0', 'wa',\n",
    "        'ns', 'neff', 'm_nu', 'Tcmb0', 'alpha_B', 'alpha_M', 'logTAGN', 'ks', 'delta_gamma']\n",
    "values = [sigma8, h, omegam, omegab, omegade,\n",
    "          w0, wa,  ns, neff, mnu, Tcmb0, alpha_B, alpha_M, log_TAGN, ks, delta_gamma]\n",
    "cosmo = dict(zip(keys, values))"
   ]
  },
  {
   "cell_type": "markdown",
   "metadata": {},
   "source": [
    "Prepare FRB SAMPLE and read from different catalogues."
   ]
  },
  {
   "cell_type": "code",
   "execution_count": 4,
   "metadata": {},
   "outputs": [],
   "source": [
    "file_paths = ['./../data/FRBCat_arXiv2307.03344.csv']\n",
    "ra_labels = ['RA (FRB)', 'ra (deg)']\n",
    "dec_labels = ['Dec (FRB)', 'dec (deg)']\n",
    "redshift_labels = ['z (host)', 'redshift', 'z_gal']\n",
    "DM_obs_labels = ['DM (pc/cm3)',\"dm\", 'DM_obs']\n",
    "DM_MW_labels = ['DM_ISM',\"dm_milky_way\", 'DM_MW']\n",
    "\n",
    "ra = [] # RA\n",
    "dec = [] # DEC\n",
    "zet = [] # redshift\n",
    "DM_obs = [] # Observed DM\n",
    "DM_MW = [] # MW DM\n",
    "frb_id = [] # ID of FRB\n",
    "for file_path in file_paths:\n",
    "    df = pd.read_csv(file_path)\n",
    "    for keys in ra_labels:\n",
    "        try:\n",
    "            aux = np.array(df[keys])\n",
    "            for i_aux in aux:\n",
    "                ra.append(i_aux)\n",
    "        except:\n",
    "            continue\n",
    "    for keys in dec_labels:\n",
    "        try:\n",
    "            aux = np.array(df[keys])\n",
    "            for i_aux in aux:\n",
    "                dec.append(i_aux)\n",
    "        except:\n",
    "            continue\n",
    "    for keys in DM_obs_labels:\n",
    "        try:\n",
    "            aux = np.array(df[keys])\n",
    "            for i_aux in aux:\n",
    "                DM_obs.append(i_aux)\n",
    "        except:\n",
    "            continue\n",
    "    for keys in redshift_labels:\n",
    "        try:\n",
    "            aux = np.array(df[keys])\n",
    "            for i_aux in aux:\n",
    "                zet.append(i_aux)\n",
    "        except:\n",
    "            continue\n",
    "    for keys in DM_MW_labels:\n",
    "        try:\n",
    "            aux = np.array(df[keys])\n",
    "            for i_aux in aux:\n",
    "                DM_MW.append(i_aux)\n",
    "        except:\n",
    "            continue\n",
    "ra = np.array(ra)\n",
    "dec = np.array(dec)\n",
    "DM_obs = np.array(DM_obs)\n",
    "DM_MW = np.array(DM_MW)\n",
    "zet = np.array(zet)\n",
    "for i_ra, val_ra in enumerate(ra):\n",
    "    if \":\" in val_ra:\n",
    "        ra[i_ra] = coord.Angle(val_ra, unit=units.degree)\n",
    "for i_dec, val_dec in enumerate(dec):\n",
    "    if \":\" in val_dec:\n",
    "        dec[i_dec] = coord.Angle(val_dec, unit=units.degree)\n",
    "\n",
    "# Convert angles\n",
    "ra = coord.Angle(ra, unit=units.degree)\n",
    "dec = coord.Angle(dec, unit=units.degree)\n",
    "ra = ra.radian - np.pi\n",
    "dec = dec.radian*np.pi\n",
    "n_with_host = len(zet)\n",
    "z = np.zeros(n_with_host)\n",
    "for i in range(len(zet)):\n",
    "    z[i] = zet[i]\n",
    "\n",
    "#Compute pairwise distance on the sky between FRBs\n",
    "delta_theta = np.zeros((n_with_host, n_with_host))\n",
    "for i in range(n_with_host):\n",
    "    for j in range(n_with_host):\n",
    "        if (i != j):\n",
    "            delta_theta[i, j] = np.arccos(np.sin(\n",
    "                ra[i])*np.sin(ra[j]) + np.cos(ra[i])*np.cos(ra[j])*np.cos(dec[i] - dec[j]))\n"
   ]
  },
  {
   "cell_type": "markdown",
   "metadata": {},
   "source": [
    "Construct the covariance passing the comsology, the electron bias and matter power spectrum emulator, the redshifts of the FRBs, their pairwise separation and for flatsky"
   ]
  },
  {
   "cell_type": "code",
   "execution_count": 5,
   "metadata": {},
   "outputs": [
    {
     "name": "stdout",
     "output_type": "stream",
     "text": [
      "Calculating FRB-Covariance\n",
      "You are asking for the EP breaking term, 'delta_gamma != 0'.\n",
      "Make sure that you specify the frequency width and frequency band (centra value of the frequency) of each FRB in GHz!\n",
      "Specifically specify 'frequency_width = ' and 'frequency_band = ' as keyword arguments in the constructor of the covariance.\n",
      "Both must be arrays of the same length as the number of FRBs.\n",
      "I will proceed by assuming that all FRBs are observed at 1GHz with a bandwidth of 0.5GHz\n"
     ]
    },
    {
     "name": "stderr",
     "output_type": "stream",
     "text": [
      "100%|██████████| 11/11 [00:00<00:00, 60.88it/s]\n"
     ]
    },
    {
     "data": {
      "text/plain": [
       "<matplotlib.image.AxesImage at 0x17e65ca70>"
      ]
     },
     "execution_count": 5,
     "metadata": {},
     "output_type": "execute_result"
    },
    {
     "data": {
      "image/png": "[encoded data removed]",
      "text/plain": [
       "<Figure size 640x480 with 1 Axes>"
      ]
     },
     "metadata": {},
     "output_type": "display_data"
    }
   ],
   "source": [
    "cov = frb.covariance_frb_background(cosmo,bias_emu,power_emu,z,delta_theta,flat_sky=True)\n",
    "corr = cov.covariance/(np.diag(cov.covariance)[:, None]*np.diag(cov.covariance)[None, :])**.5\n",
    "plt.imshow(corr)\n"
   ]
  },
  {
   "cell_type": "markdown",
   "metadata": {},
   "source": [
    "Construct the covariance passing the comsology, the electron bias and matter power spectrum emulator, the redshifts of the FRBs, their pairwise separation and for curved sky."
   ]
  }
 ],
 "metadata": {
  "kernelspec": {
   "display_name": "base",
   "language": "python",
   "name": "python3"
  },
  "language_info": {
   "codemirror_mode": {
    "name": "ipython",
    "version": 3
   },
   "file_extension": ".py",
   "mimetype": "text/x-python",
   "name": "python",
   "nbconvert_exporter": "python",
   "pygments_lexer": "ipython3",
   "version": "3.12.2"
  }
 },
 "nbformat": 4,
 "nbformat_minor": 2
}

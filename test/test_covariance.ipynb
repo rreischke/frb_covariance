{
 "cells": [
  {
   "cell_type": "code",
   "execution_count": 1,
   "metadata": {},
   "outputs": [],
   "source": [
    "import cosmopower as cp\n",
    "import frb_cov as frb\n",
    "import astropy.coordinates as coord\n",
    "from astropy.coordinates import SkyCoord\n",
    "import astropy.units as units\n",
    "import numpy as np\n",
    "import matplotlib.pyplot as plt\n",
    "import pandas as pd"
   ]
  },
  {
   "cell_type": "markdown",
   "metadata": {},
   "source": [
    "Load Emulators"
   ]
  },
  {
   "cell_type": "code",
   "execution_count": 8,
   "metadata": {},
   "outputs": [],
   "source": [
    "bias_emu = cp.cosmopower_NN(restore=True, restore_filename=\"./../cosmopower/bias_sq_model\")\n",
    "power_emu = cp.cosmopower_NN(restore=True, restore_filename=\"./../cosmopower/pkmm_nonlin_model\")\n"
   ]
  },
  {
   "cell_type": "markdown",
   "metadata": {},
   "source": [
    "Define fiducial cosmology and initialise cosmo dictionary\n"
   ]
  },
  {
   "cell_type": "code",
   "execution_count": 9,
   "metadata": {},
   "outputs": [],
   "source": [
    "sigma8 = 0.834\n",
    "h = 0.674\n",
    "omegam = 0.3\n",
    "omegab = 0.05\n",
    "omegade = 1.0 - omegam\n",
    "w0 = -1\n",
    "wa = 0\n",
    "ns = 0.963\n",
    "neff = 3.046\n",
    "mnu = 0\n",
    "Tcmb0 = 2.725\n",
    "alpha_B = 0.5\n",
    "alpha_M = 0.5\n",
    "log_TAGN = 7.8\n",
    "ks = 0.1\n",
    "keys = ['sigma_8', 'h', 'omega_m', 'omega_b', 'omega_de', 'w0', 'wa',\n",
    "        'ns', 'neff', 'm_nu', 'Tcmb0', 'alpha_B', 'alpha_M', 'logTAGN', 'ks']\n",
    "values = [sigma8, h, omegam, omegab, omegade,\n",
    "          w0, wa,  ns, neff, mnu, Tcmb0, alpha_B, alpha_M, log_TAGN, ks]\n",
    "cosmo = dict(zip(keys, values))"
   ]
  },
  {
   "cell_type": "markdown",
   "metadata": {},
   "source": [
    "Prepare FRB SAMPLE and read from different catalogues."
   ]
  },
  {
   "cell_type": "code",
   "execution_count": 10,
   "metadata": {},
   "outputs": [
    {
     "ename": "UnitsError",
     "evalue": "No unit specified",
     "output_type": "error",
     "traceback": [
      "\u001b[0;31m---------------------------------------------------------------------------\u001b[0m",
      "\u001b[0;31mUnitsError\u001b[0m                                Traceback (most recent call last)",
      "Cell \u001b[0;32mIn[10], line 62\u001b[0m\n\u001b[1;32m     60\u001b[0m     \u001b[38;5;28;01mif\u001b[39;00m \u001b[38;5;124m\"\u001b[39m\u001b[38;5;124m:\u001b[39m\u001b[38;5;124m\"\u001b[39m \u001b[38;5;129;01min\u001b[39;00m val_dec:\n\u001b[1;32m     61\u001b[0m         dec[i_dec] \u001b[38;5;241m=\u001b[39m coord\u001b[38;5;241m.\u001b[39mAngle(val_dec, unit\u001b[38;5;241m=\u001b[39munits\u001b[38;5;241m.\u001b[39mdegree)\n\u001b[0;32m---> 62\u001b[0m     \u001b[38;5;28mprint\u001b[39m(SkyCoord(ra\u001b[38;5;241m=\u001b[39mra[i_dec], dec\u001b[38;5;241m=\u001b[39mdec[i_dec]))\n\u001b[1;32m     64\u001b[0m \u001b[38;5;66;03m# Convert angles\u001b[39;00m\n\u001b[1;32m     65\u001b[0m ra \u001b[38;5;241m=\u001b[39m coord\u001b[38;5;241m.\u001b[39mAngle(ra, unit\u001b[38;5;241m=\u001b[39munits\u001b[38;5;241m.\u001b[39mdegree)\n",
      "File \u001b[0;32m/opt/anaconda3/lib/python3.12/site-packages/astropy/coordinates/sky_coordinate.py:351\u001b[0m, in \u001b[0;36mSkyCoord.__init__\u001b[0;34m(self, copy, *args, **kwargs)\u001b[0m\n\u001b[1;32m    347\u001b[0m \u001b[38;5;66;03m# Parse the args and kwargs to assemble a sanitized and validated\u001b[39;00m\n\u001b[1;32m    348\u001b[0m \u001b[38;5;66;03m# kwargs dict for initializing attributes for this object and for\u001b[39;00m\n\u001b[1;32m    349\u001b[0m \u001b[38;5;66;03m# creating the internal self._sky_coord_frame object\u001b[39;00m\n\u001b[1;32m    350\u001b[0m args \u001b[38;5;241m=\u001b[39m \u001b[38;5;28mlist\u001b[39m(args)  \u001b[38;5;66;03m# Make it mutable\u001b[39;00m\n\u001b[0;32m--> 351\u001b[0m skycoord_kwargs, components, info \u001b[38;5;241m=\u001b[39m _parse_coordinate_data(\n\u001b[1;32m    352\u001b[0m     frame_cls(\u001b[38;5;241m*\u001b[39m\u001b[38;5;241m*\u001b[39mframe_kwargs), args, kwargs\n\u001b[1;32m    353\u001b[0m )\n\u001b[1;32m    355\u001b[0m \u001b[38;5;66;03m# In the above two parsing functions, these kwargs were identified\u001b[39;00m\n\u001b[1;32m    356\u001b[0m \u001b[38;5;66;03m# as valid frame attributes for *some* frame, but not the frame that\u001b[39;00m\n\u001b[1;32m    357\u001b[0m \u001b[38;5;66;03m# this SkyCoord will have. We keep these attributes as special\u001b[39;00m\n\u001b[1;32m    358\u001b[0m \u001b[38;5;66;03m# skycoord frame attributes:\u001b[39;00m\n\u001b[1;32m    359\u001b[0m \u001b[38;5;28;01mfor\u001b[39;00m attr \u001b[38;5;129;01min\u001b[39;00m skycoord_kwargs:\n\u001b[1;32m    360\u001b[0m     \u001b[38;5;66;03m# Setting it will also validate it.\u001b[39;00m\n",
      "File \u001b[0;32m/opt/anaconda3/lib/python3.12/site-packages/astropy/coordinates/sky_coordinate_parsers.py:229\u001b[0m, in \u001b[0;36m_parse_coordinate_data\u001b[0;34m(frame, args, kwargs)\u001b[0m\n\u001b[1;32m    225\u001b[0m units \u001b[38;5;241m=\u001b[39m _get_representation_component_units(args, kwargs)\n\u001b[1;32m    227\u001b[0m \u001b[38;5;66;03m# Grab any frame-specific attr names like `ra` or `l` or `distance` from\u001b[39;00m\n\u001b[1;32m    228\u001b[0m \u001b[38;5;66;03m# kwargs and move them to valid_components.\u001b[39;00m\n\u001b[0;32m--> 229\u001b[0m valid_components \u001b[38;5;241m=\u001b[39m _get_representation_attrs(frame, units, kwargs)\n\u001b[1;32m    231\u001b[0m \u001b[38;5;66;03m# Error if anything is still left in kwargs\u001b[39;00m\n\u001b[1;32m    232\u001b[0m \u001b[38;5;28;01mif\u001b[39;00m kwargs:\n\u001b[1;32m    233\u001b[0m     \u001b[38;5;66;03m# The next few lines add a more user-friendly error message to a\u001b[39;00m\n\u001b[1;32m    234\u001b[0m     \u001b[38;5;66;03m# common and confusing situation when the user specifies, e.g.,\u001b[39;00m\n\u001b[1;32m    235\u001b[0m     \u001b[38;5;66;03m# `pm_ra` when they really should be passing `pm_ra_cosdec`. The\u001b[39;00m\n\u001b[1;32m    236\u001b[0m     \u001b[38;5;66;03m# extra error should only turn on when the positional representation\u001b[39;00m\n\u001b[1;32m    237\u001b[0m     \u001b[38;5;66;03m# is spherical, and when the component 'pm_<lon>' is passed.\u001b[39;00m\n",
      "File \u001b[0;32m/opt/anaconda3/lib/python3.12/site-packages/astropy/coordinates/sky_coordinate_parsers.py:566\u001b[0m, in \u001b[0;36m_get_representation_attrs\u001b[0;34m(frame, units, kwargs)\u001b[0m\n\u001b[1;32m    564\u001b[0m \u001b[38;5;28;01mif\u001b[39;00m value \u001b[38;5;129;01mis\u001b[39;00m \u001b[38;5;129;01mnot\u001b[39;00m \u001b[38;5;28;01mNone\u001b[39;00m:\n\u001b[1;32m    565\u001b[0m     \u001b[38;5;28;01mtry\u001b[39;00m:\n\u001b[0;32m--> 566\u001b[0m         valid_kwargs[frame_attr_name] \u001b[38;5;241m=\u001b[39m repr_attr_class(value, unit\u001b[38;5;241m=\u001b[39munit)\n\u001b[1;32m    567\u001b[0m     \u001b[38;5;28;01mexcept\u001b[39;00m u\u001b[38;5;241m.\u001b[39mUnitConversionError \u001b[38;5;28;01mas\u001b[39;00m err:\n\u001b[1;32m    568\u001b[0m         error_message \u001b[38;5;241m=\u001b[39m (\n\u001b[1;32m    569\u001b[0m             \u001b[38;5;124mf\u001b[39m\u001b[38;5;124m\"\u001b[39m\u001b[38;5;124mUnit \u001b[39m\u001b[38;5;124m'\u001b[39m\u001b[38;5;132;01m{\u001b[39;00munit\u001b[38;5;132;01m}\u001b[39;00m\u001b[38;5;124m'\u001b[39m\u001b[38;5;124m (\u001b[39m\u001b[38;5;132;01m{\u001b[39;00munit\u001b[38;5;241m.\u001b[39mphysical_type\u001b[38;5;132;01m}\u001b[39;00m\u001b[38;5;124m) could not be applied to\u001b[39m\u001b[38;5;124m\"\u001b[39m\n\u001b[1;32m    570\u001b[0m             \u001b[38;5;124mf\u001b[39m\u001b[38;5;124m\"\u001b[39m\u001b[38;5;124m \u001b[39m\u001b[38;5;124m'\u001b[39m\u001b[38;5;132;01m{\u001b[39;00mframe_attr_name\u001b[38;5;132;01m}\u001b[39;00m\u001b[38;5;124m'\u001b[39m\u001b[38;5;124m. This can occur when passing units for some\u001b[39m\u001b[38;5;124m\"\u001b[39m\n\u001b[0;32m   (...)\u001b[0m\n\u001b[1;32m    574\u001b[0m             \u001b[38;5;124m\"\u001b[39m\u001b[38;5;124m components.\u001b[39m\u001b[38;5;124m\"\u001b[39m\n\u001b[1;32m    575\u001b[0m         )\n",
      "File \u001b[0;32m/opt/anaconda3/lib/python3.12/site-packages/astropy/coordinates/angles/core.py:723\u001b[0m, in \u001b[0;36mLongitude.__new__\u001b[0;34m(cls, angle, unit, wrap_angle, **kwargs)\u001b[0m\n\u001b[1;32m    719\u001b[0m \u001b[38;5;28;01mif\u001b[39;00m \u001b[38;5;28misinstance\u001b[39m(angle, Latitude):\n\u001b[1;32m    720\u001b[0m     \u001b[38;5;28;01mraise\u001b[39;00m \u001b[38;5;167;01mTypeError\u001b[39;00m(\n\u001b[1;32m    721\u001b[0m         \u001b[38;5;124m\"\u001b[39m\u001b[38;5;124mA Longitude angle cannot be created from a Latitude angle.\u001b[39m\u001b[38;5;124m\"\u001b[39m\n\u001b[1;32m    722\u001b[0m     )\n\u001b[0;32m--> 723\u001b[0m \u001b[38;5;28mself\u001b[39m \u001b[38;5;241m=\u001b[39m \u001b[38;5;28msuper\u001b[39m()\u001b[38;5;241m.\u001b[39m\u001b[38;5;21m__new__\u001b[39m(\u001b[38;5;28mcls\u001b[39m, angle, unit\u001b[38;5;241m=\u001b[39munit, \u001b[38;5;241m*\u001b[39m\u001b[38;5;241m*\u001b[39mkwargs)\n\u001b[1;32m    724\u001b[0m \u001b[38;5;28;01mif\u001b[39;00m wrap_angle \u001b[38;5;129;01mis\u001b[39;00m \u001b[38;5;28;01mNone\u001b[39;00m:\n\u001b[1;32m    725\u001b[0m     wrap_angle \u001b[38;5;241m=\u001b[39m \u001b[38;5;28mgetattr\u001b[39m(angle, \u001b[38;5;124m\"\u001b[39m\u001b[38;5;124mwrap_angle\u001b[39m\u001b[38;5;124m\"\u001b[39m, \u001b[38;5;28mself\u001b[39m\u001b[38;5;241m.\u001b[39m_default_wrap_angle)\n",
      "File \u001b[0;32m/opt/anaconda3/lib/python3.12/site-packages/astropy/coordinates/angles/core.py:164\u001b[0m, in \u001b[0;36mAngle.__new__\u001b[0;34m(cls, angle, unit, dtype, copy, **kwargs)\u001b[0m\n\u001b[1;32m    155\u001b[0m     \u001b[38;5;28;01mraise\u001b[39;00m \u001b[38;5;167;01mTypeError\u001b[39;00m(\n\u001b[1;32m    156\u001b[0m         \u001b[38;5;124m\"\u001b[39m\u001b[38;5;124mCreating an Angle with a tuple of degrees (or hours), minutes, and seconds \u001b[39m\u001b[38;5;124m\"\u001b[39m\n\u001b[1;32m    157\u001b[0m         \u001b[38;5;124m\"\u001b[39m\u001b[38;5;124mis no longer supported, as it has ambiguous behavior when the degree \u001b[39m\u001b[38;5;124m\"\u001b[39m\n\u001b[0;32m   (...)\u001b[0m\n\u001b[1;32m    160\u001b[0m         \u001b[38;5;124m\"\u001b[39m\u001b[38;5;124mwill be interpreted simply as a sequence with the given unit.\u001b[39m\u001b[38;5;124m\"\u001b[39m\n\u001b[1;32m    161\u001b[0m     )\n\u001b[1;32m    163\u001b[0m \u001b[38;5;28;01mif\u001b[39;00m \u001b[38;5;28misinstance\u001b[39m(angle, \u001b[38;5;28mstr\u001b[39m):\n\u001b[0;32m--> 164\u001b[0m     angle, angle_unit \u001b[38;5;241m=\u001b[39m formats\u001b[38;5;241m.\u001b[39mparse_angle(angle, unit)\n\u001b[1;32m    165\u001b[0m     \u001b[38;5;28;01mif\u001b[39;00m angle_unit \u001b[38;5;129;01mis\u001b[39;00m \u001b[38;5;28;01mNone\u001b[39;00m:\n\u001b[1;32m    166\u001b[0m         angle_unit \u001b[38;5;241m=\u001b[39m unit\n",
      "File \u001b[0;32m/opt/anaconda3/lib/python3.12/site-packages/astropy/coordinates/angles/formats.py:399\u001b[0m, in \u001b[0;36mparse_angle\u001b[0;34m(angle, unit, debug)\u001b[0m\n\u001b[1;32m    368\u001b[0m \u001b[38;5;28;01mdef\u001b[39;00m \u001b[38;5;21mparse_angle\u001b[39m(angle, unit\u001b[38;5;241m=\u001b[39m\u001b[38;5;28;01mNone\u001b[39;00m, debug\u001b[38;5;241m=\u001b[39m\u001b[38;5;28;01mFalse\u001b[39;00m):\n\u001b[1;32m    369\u001b[0m \u001b[38;5;250m    \u001b[39m\u001b[38;5;124;03m\"\"\"\u001b[39;00m\n\u001b[1;32m    370\u001b[0m \u001b[38;5;124;03m    Parses an input string value into an angle value.\u001b[39;00m\n\u001b[1;32m    371\u001b[0m \n\u001b[0;32m   (...)\u001b[0m\n\u001b[1;32m    397\u001b[0m \u001b[38;5;124;03m        string.\u001b[39;00m\n\u001b[1;32m    398\u001b[0m \u001b[38;5;124;03m    \"\"\"\u001b[39;00m\n\u001b[0;32m--> 399\u001b[0m     \u001b[38;5;28;01mreturn\u001b[39;00m _AngleParser()\u001b[38;5;241m.\u001b[39mparse(angle, unit, debug\u001b[38;5;241m=\u001b[39mdebug)\n",
      "File \u001b[0;32m/opt/anaconda3/lib/python3.12/site-packages/astropy/coordinates/angles/formats.py:317\u001b[0m, in \u001b[0;36m_AngleParser.parse\u001b[0;34m(self, angle, unit, debug)\u001b[0m\n\u001b[1;32m    312\u001b[0m     \u001b[38;5;28;01mraise\u001b[39;00m \u001b[38;5;167;01mValueError\u001b[39;00m(\n\u001b[1;32m    313\u001b[0m         \u001b[38;5;124mf\u001b[39m\u001b[38;5;124m\"\u001b[39m\u001b[38;5;132;01m{\u001b[39;00m\u001b[38;5;28mstr\u001b[39m(e)\u001b[38;5;250m \u001b[39m\u001b[38;5;129;01mor\u001b[39;00m\u001b[38;5;250m \u001b[39m\u001b[38;5;124m'\u001b[39m\u001b[38;5;124msyntax error\u001b[39m\u001b[38;5;124m'\u001b[39m\u001b[38;5;132;01m}\u001b[39;00m\u001b[38;5;124m parsing angle \u001b[39m\u001b[38;5;132;01m{\u001b[39;00mangle\u001b[38;5;132;01m!r}\u001b[39;00m\u001b[38;5;124m\"\u001b[39m\n\u001b[1;32m    314\u001b[0m     ) \u001b[38;5;28;01mfrom\u001b[39;00m \u001b[38;5;21;01me\u001b[39;00m\n\u001b[1;32m    316\u001b[0m \u001b[38;5;28;01mif\u001b[39;00m unit \u001b[38;5;129;01mis\u001b[39;00m \u001b[38;5;28;01mNone\u001b[39;00m \u001b[38;5;129;01mand\u001b[39;00m found_unit \u001b[38;5;129;01mis\u001b[39;00m \u001b[38;5;28;01mNone\u001b[39;00m:\n\u001b[0;32m--> 317\u001b[0m     \u001b[38;5;28;01mraise\u001b[39;00m u\u001b[38;5;241m.\u001b[39mUnitsError(\u001b[38;5;124m\"\u001b[39m\u001b[38;5;124mNo unit specified\u001b[39m\u001b[38;5;124m\"\u001b[39m)\n\u001b[1;32m    319\u001b[0m \u001b[38;5;28;01mreturn\u001b[39;00m found_angle, found_unit\n",
      "\u001b[0;31mUnitsError\u001b[0m: No unit specified"
     ]
    }
   ],
   "source": [
    "file_paths = ['./../data/FRBCat_arXiv2307.03344.csv']\n",
    "ra_labels = ['RA (FRB)', 'ra (deg)']\n",
    "dec_labels = ['Dec (FRB)', 'dec (deg)']\n",
    "redshift_labels = ['z (host)', 'redshift', 'z_gal']\n",
    "DM_obs_labels = ['DM (pc/cm3)',\"dm\", 'DM_obs']\n",
    "DM_MW_labels = ['DM_ISM',\"dm_milky_way\", 'DM_MW']\n",
    "\n",
    "ra = [] # RA\n",
    "dec = [] # DEC\n",
    "zet = [] # redshift\n",
    "DM_obs = [] # Observed DM\n",
    "DM_MW = [] # MW DM\n",
    "frb_id = [] # ID of FRB\n",
    "for file_path in file_paths:\n",
    "    df = pd.read_csv(file_path)\n",
    "    for keys in ra_labels:\n",
    "        try:\n",
    "            aux = np.array(df[keys])\n",
    "            for i_aux in aux:\n",
    "                ra.append(i_aux)\n",
    "        except:\n",
    "            continue\n",
    "    for keys in dec_labels:\n",
    "        try:\n",
    "            aux = np.array(df[keys])\n",
    "            for i_aux in aux:\n",
    "                dec.append(i_aux)\n",
    "        except:\n",
    "            continue\n",
    "    for keys in DM_obs_labels:\n",
    "        try:\n",
    "            aux = np.array(df[keys])\n",
    "            for i_aux in aux:\n",
    "                DM_obs.append(i_aux)\n",
    "        except:\n",
    "            continue\n",
    "    for keys in redshift_labels:\n",
    "        try:\n",
    "            aux = np.array(df[keys])\n",
    "            for i_aux in aux:\n",
    "                zet.append(i_aux)\n",
    "        except:\n",
    "            continue\n",
    "    for keys in DM_MW_labels:\n",
    "        try:\n",
    "            aux = np.array(df[keys])\n",
    "            for i_aux in aux:\n",
    "                DM_MW.append(i_aux)\n",
    "        except:\n",
    "            continue\n",
    "ra = np.array(ra)\n",
    "dec = np.array(dec)\n",
    "DM_obs = np.array(DM_obs)\n",
    "DM_MW = np.array(DM_MW)\n",
    "zet = np.array(zet)\n",
    "for i_ra, val_ra in enumerate(ra):\n",
    "    if \":\" in val_ra:\n",
    "        ra[i_ra] = coord.Angle(val_ra, unit=units.degree)\n",
    "for i_dec, val_dec in enumerate(dec):\n",
    "    if \":\" in val_dec:\n",
    "        dec[i_dec] = coord.Angle(val_dec, unit=units.degree)\n",
    "        print(ra[i_dec])\n",
    "        print(SkyCoord(ra=ra[i_dec], dec=dec[i_dec]))\n",
    "\n",
    "# Convert angles\n",
    "ra = coord.Angle(ra, unit=units.degree)\n",
    "dec = coord.Angle(dec, unit=units.degree)\n",
    "ra = ra.radian - np.pi\n",
    "dec = dec.radian*np.pi\n",
    "n_with_host = len(zet)\n",
    "z = np.zeros(n_with_host)\n",
    "for i in range(len(zet)):\n",
    "    z[i] = zet[i]\n",
    "\n",
    "#Compute pairwise distance on the sky between FRBs\n",
    "delta_theta = np.zeros((n_with_host, n_with_host))\n",
    "for i in range(n_with_host):\n",
    "    for j in range(n_with_host):\n",
    "        if (i != j):\n",
    "            delta_theta[i, j] = np.arccos(np.sin(\n",
    "                ra[i])*np.sin(ra[j]) + np.cos(ra[i])*np.cos(ra[j])*np.cos(dec[i] - dec[j]))\n"
   ]
  },
  {
   "cell_type": "markdown",
   "metadata": {},
   "source": [
    "Construct the covariance passing the comsology, the electron bias and matter power spectrum emulator, the redshifts of the FRBs, their pairwise separation and for flatsky"
   ]
  },
  {
   "cell_type": "code",
   "execution_count": 5,
   "metadata": {},
   "outputs": [
    {
     "data": {
      "text/plain": [
       "<matplotlib.image.AxesImage at 0x30c179be0>"
      ]
     },
     "execution_count": 5,
     "metadata": {},
     "output_type": "execute_result"
    },
    {
     "data": {
      "image/png": "[encoded data removed]",
      "text/plain": [
       "<Figure size 640x480 with 1 Axes>"
      ]
     },
     "metadata": {},
     "output_type": "display_data"
    }
   ],
   "source": [
    "cov = frb.covariance_frb_background(cosmo,bias_emu,power_emu,z,delta_theta,True)\n",
    "corr = cov.covariance/(np.diag(cov.covariance)[:, None]*np.diag(cov.covariance)[None, :])**.5\n",
    "plt.imshow(corr)"
   ]
  },
  {
   "cell_type": "markdown",
   "metadata": {},
   "source": [
    "Construct the covariance passing the comsology, the electron bias and matter power spectrum emulator, the redshifts of the FRBs, their pairwise separation and for curved sky."
   ]
  },
  {
   "cell_type": "code",
   "execution_count": 6,
   "metadata": {},
   "outputs": [
    {
     "data": {
      "text/plain": [
       "<matplotlib.image.AxesImage at 0x30ab647a0>"
      ]
     },
     "execution_count": 6,
     "metadata": {},
     "output_type": "execute_result"
    },
    {
     "data": {
      "image/png": "[encoded data removed]",
      "text/plain": [
       "<Figure size 640x480 with 1 Axes>"
      ]
     },
     "metadata": {},
     "output_type": "display_data"
    }
   ],
   "source": [
    "cov = frb.covariance_frb_background(cosmo,bias_emu,power_emu,z,delta_theta,False)\n",
    "corr = cov.covariance/(np.diag(cov.covariance)[:, None]*np.diag(cov.covariance)[None, :])**.5\n",
    "plt.imshow(corr)"
   ]
  }
 ],
 "metadata": {
  "kernelspec": {
   "display_name": "base",
   "language": "python",
   "name": "python3"
  },
  "language_info": {
   "codemirror_mode": {
    "name": "ipython",
    "version": 3
   },
   "file_extension": ".py",
   "mimetype": "text/x-python",
   "name": "python",
   "nbconvert_exporter": "python",
   "pygments_lexer": "ipython3",
   "version": "3.12.2"
  }
 },
 "nbformat": 4,
 "nbformat_minor": 2
}
